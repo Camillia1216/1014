{
 "cells": [
  {
   "cell_type": "markdown",
   "id": "18faa05c",
   "metadata": {},
   "source": [
    "## QUESTION 2\n",
    "\n",
    "1. individual sample: It is the value in each sample\n",
    "2. sample mean: The mean of each sample\n",
    "3. population mean: The mean of the population, it can not use the sample meam to calaulate, must be real value in the population.\n",
    "4. hypothesized population mean: It also called \"null hypothesis\",  It is the assumption or claim that there is no effect, no relationship, or no difference between groups or variables in the population being studied.\n"
   ]
  },
  {
   "cell_type": "markdown",
   "id": "0773f6b6",
   "metadata": {},
   "source": [
    "[question 2 chatlog](https://chatgpt.com/c/67041fae-0950-800e-a7c7-7d5d856590bd)"
   ]
  },
  {
   "cell_type": "markdown",
   "id": "604161ec",
   "metadata": {},
   "source": [
    "## QUESTION 4\n",
    "a smaller p-value makes the null hypothesis look more ridiculous. Explain why this is in your own words in a way that makes the most sense to you, clarifying the meaning of any technical statistical terminology you use in your answer.\n",
    "* P-value is the probability of finding the observed, or more extreme, results when the null hypothesis of a study question is true. So if the p-value is small, that is means there is small possible that the observed result will happened if the null hypothesis is true. On the other way, the null hypothesis is not a good explanation for what’s happening in the data, but we assume that is true, sounds rediculous."
   ]
  },
  {
   "cell_type": "markdown",
   "id": "253af2f4",
   "metadata": {},
   "source": [
    "## QUESTION 8\n",
    "### Problem introduction\n",
    "1. Population: All STA130 students \n",
    "2. Sample: Randomly choose 80 student in STA130\n",
    "3. Parameter of interest: 49/80=0.6125\n",
    "4. Null Hyphothesis: Assume students randomly gussing, H0=1/2=0.5\n",
    "5. Informal: There is no difference between students' guessing and identifying milk or tea pour first.\n",
    "6. Althernative hyphothesis: Students can identifying milk or tea pour first.\n",
    "\n",
    "### Finding and discussion\n",
    "1. Set null hypothesis=0.5, Alterantive hypothesis=0.615\n",
    "2. Find the z-test=2.01 and then calculate p-value\n",
    "<code> Python \n",
    "z_stat = (p_hat - p_0) / math.sqrt(p_0 * (1 - p_0) / n)  (use it to find z-test)\n",
    "p_value = 1 - norm.cdf(z_stat) (use it to find p-value)\n",
    "</code>\n",
    "p-value=0.0221\n",
    "3. p-value<0.05, we reject the null hypothesis\n",
    "4. Interpretation: Students are better at identifying milk or tea pour first than guessing.\n"
   ]
  },
  {
   "cell_type": "code",
   "execution_count": 2,
   "id": "33ddee74",
   "metadata": {},
   "outputs": [
    {
     "name": "stdout",
     "output_type": "stream",
     "text": [
      "Observed proportion (p-hat): 0.6125\n",
      "Z-test statistic: 2.0125\n",
      "P-value: 0.0221\n",
      "Reject the null hypothesis. There is evidence that students are better than guessing.\n"
     ]
    }
   ],
   "source": [
    "#Quantitative Analysis\n",
    "import math\n",
    "from scipy.stats import norm\n",
    "\n",
    "# Given data\n",
    "n = 80              # Sample size\n",
    "correct = 49        # Number of correct identifications\n",
    "p_0 = 0.5           # Null hypothesis proportion\n",
    "\n",
    "# Calculate observed proportion\n",
    "p_hat = correct / n\n",
    "\n",
    "# Z-test formula for one proportion\n",
    "z_stat = (p_hat - p_0) / math.sqrt(p_0 * (1 - p_0) / n)\n",
    "\n",
    "# Calculate the p-value for a one-tailed test\n",
    "p_value = 1 - norm.cdf(z_stat)\n",
    "\n",
    "# Output results\n",
    "print(f\"Observed proportion (p-hat): {p_hat:.4f}\")\n",
    "print(f\"Z-test statistic: {z_stat:.4f}\")\n",
    "print(f\"P-value: {p_value:.4f}\")\n",
    "\n",
    "# Decision based on p-value\n",
    "alpha = 0.05\n",
    "if p_value < alpha:\n",
    "    print(\"Reject the null hypothesis. There is evidence that students are better than guessing.\")\n",
    "else:\n",
    "    print(\"Fail to reject the null hypothesis. No evidence that students are better than guessing.\")\n"
   ]
  },
  {
   "cell_type": "markdown",
   "id": "1eb212c2",
   "metadata": {},
   "source": [
    "[question 8 chatlog](https://chatgpt.com/share/670dce4e-1674-800e-ab08-3e77377b9c5b)"
   ]
  },
  {
   "cell_type": "code",
   "execution_count": null,
   "id": "6c2328d7",
   "metadata": {},
   "outputs": [],
   "source": []
  },
  {
   "cell_type": "code",
   "execution_count": null,
   "id": "ef97fefc",
   "metadata": {},
   "outputs": [],
   "source": []
  },
  {
   "cell_type": "code",
   "execution_count": null,
   "id": "79e4bd96",
   "metadata": {},
   "outputs": [],
   "source": []
  },
  {
   "cell_type": "code",
   "execution_count": null,
   "id": "52e8d40e",
   "metadata": {},
   "outputs": [],
   "source": []
  },
  {
   "cell_type": "code",
   "execution_count": null,
   "id": "4c1e4feb",
   "metadata": {},
   "outputs": [],
   "source": []
  },
  {
   "cell_type": "code",
   "execution_count": null,
   "id": "34f76b3f",
   "metadata": {},
   "outputs": [],
   "source": []
  }
 ],
 "metadata": {
  "kernelspec": {
   "display_name": "Python 3 (ipykernel)",
   "language": "python",
   "name": "python3"
  },
  "language_info": {
   "codemirror_mode": {
    "name": "ipython",
    "version": 3
   },
   "file_extension": ".py",
   "mimetype": "text/x-python",
   "name": "python",
   "nbconvert_exporter": "python",
   "pygments_lexer": "ipython3",
   "version": "3.11.6"
  }
 },
 "nbformat": 4,
 "nbformat_minor": 5
}
